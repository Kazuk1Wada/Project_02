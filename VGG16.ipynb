{
 "cells": [
  {
   "cell_type": "code",
   "execution_count": 1,
   "metadata": {
    "id": "axVD9iYtqqNz"
   },
   "outputs": [
    {
     "name": "stderr",
     "output_type": "stream",
     "text": [
      "Using TensorFlow backend.\n"
     ]
    }
   ],
   "source": [
    "#必要ライブラリのインポート\n",
    "\n",
    "import numpy as np\n",
    "import pandas as pd\n",
    "import matplotlib.pyplot as plt\n",
    "import os, zipfile, io , re\n",
    "from PIL import Image\n",
    "from sklearn.model_selection import train_test_split\n",
    "import keras\n",
    "from keras.models import Sequential, Model, load_model\n",
    "from keras.layers.convolutional import  Conv2D,MaxPooling2D\n",
    "from keras.layers.core import Dense,Dropout,Activation, Flatten\n",
    "from keras.layers.pooling import GlobalAveragePooling2D\n",
    "from keras.callbacks import  EarlyStopping,ReduceLROnPlateau\n",
    "from keras.preprocessing.image import ImageDataGenerator\n",
    "from keras.applications.vgg16 import VGG16\n",
    "from keras.layers import Dense, GlobalAveragePooling2D,Input\n"
   ]
  },
  {
   "cell_type": "markdown",
   "metadata": {},
   "source": [
    "データセットはここから\n",
    "https://susanqq.github.io/UTKFace/"
   ]
  },
  {
   "cell_type": "code",
   "execution_count": 2,
   "metadata": {
    "colab": {
     "base_uri": "https://localhost:8080/"
    },
    "executionInfo": {
     "elapsed": 35101,
     "status": "ok",
     "timestamp": 1620263722856,
     "user": {
      "displayName": "和田一毅",
      "photoUrl": "",
      "userId": "12467363998519201250"
     },
     "user_tz": -540
    },
    "id": "ytkyu9v2rVMm",
    "outputId": "15c3a76b-a54b-4984-d2cb-94dfa059cef5"
   },
   "outputs": [
    {
     "name": "stdout",
     "output_type": "stream",
     "text": [
      "(23708, 100, 100, 3) (23708,)\n"
     ]
    }
   ],
   "source": [
    "#データセットを変数に格納\n",
    "image_size = 100 #入力画像のサイズ\n",
    "z = zipfile.ZipFile('./UTKFace.zip') #ローカルでは解凍していたが重いのでzip\n",
    "\n",
    "#[age]_[gender]_[race]_[date&time].jpg\n",
    "imgfiles = [x for x in z.namelist() if re.search(r\"^UTKFace.*jpg$\",x)]\n",
    "\n",
    "X = []\n",
    "Y = []\n",
    "\n",
    "for imgfiles in imgfiles:\n",
    "  #バイナリからの読み込み\n",
    "  image = Image.open(io.BytesIO(z.read(imgfiles)))\n",
    "  #色の変換\n",
    "  image = image.convert('RGB')\n",
    "  #100×100に変換\n",
    "  image = image.resize((image_size,image_size))\n",
    "  data = np.asarray(image)\n",
    "  file  =os.path.basename(imgfiles)\n",
    "  #split()を用いてファイル名から年齢を取得する\n",
    "  file_split = [ i for i in file.split('_')]\n",
    "  X.append(data)\n",
    "  Y.append(int(file_split[0]))\n",
    "z.close()\n",
    "\n",
    "X = np.array(X)\n",
    "Y = np.array(Y)\n",
    "\n",
    "del z, imgfiles #メモリの節約のため、用済みのリストを削除\n",
    "print(X.shape,Y.shape)\n"
   ]
  },
  {
   "cell_type": "code",
   "execution_count": null,
   "metadata": {},
   "outputs": [],
   "source": []
  },
  {
   "cell_type": "code",
   "execution_count": 6,
   "metadata": {
    "colab": {
     "base_uri": "https://localhost:8080/"
    },
    "executionInfo": {
     "elapsed": 2269,
     "status": "ok",
     "timestamp": 1620263861675,
     "user": {
      "displayName": "和田一毅",
      "photoUrl": "",
      "userId": "12467363998519201250"
     },
     "user_tz": -540
    },
    "id": "qFhzRli3uIDo",
    "outputId": "6c22a51e-9b62-419d-bd90-bbceba9eed9c"
   },
   "outputs": [
    {
     "name": "stdout",
     "output_type": "stream",
     "text": [
      "(18966, 100, 100, 3) (18966,) (4742, 100, 100, 3) (4742,)\n",
      "(15172, 100, 100, 3) (15172,) (3794, 100, 100, 3) (3794,)\n"
     ]
    }
   ],
   "source": [
    "\n",
    "#検証用とテスト用のデータを分割する。\n",
    "X_train , X_test , y_train , y_test = train_test_split(\n",
    "    X,\n",
    "    Y,\n",
    "    random_state = 0,\n",
    "    test_size = 0.2\n",
    ")\n",
    "\n",
    "del X,Y\n",
    "print(X_train.shape , y_train.shape , X_test.shape, y_test.shape)\n",
    "\n",
    "#学習用をさらに8:2で分割する。少ないほうが検証用\n",
    "#データ型の変換、正規化\n",
    "X_train = X_train.astype('float32') / 255\n",
    "X_test = X_test.astype('float32') / 255\n",
    "\n",
    "X_train , X_val , y_train , y_val = train_test_split(\n",
    "    X_train,\n",
    "    y_train,\n",
    "    random_state = 0,\n",
    "    test_size  =0.2\n",
    ")\n",
    "\n",
    "print(X_train.shape,y_train.shape, X_val.shape,y_val.shape)"
   ]
  },
  {
   "cell_type": "code",
   "execution_count": 7,
   "metadata": {
    "id": "5vzZHOxEUT2F"
   },
   "outputs": [],
   "source": [
    "# #CNNモデルの構築⑥（VGG16を使用）\n",
    "def model_train(X,y):\n",
    "  vgg16_model = VGG16(\n",
    "      #重みにImagenetを使用\n",
    "      weights = 'imagenet',\n",
    "      #全結合層を別途作成するので、Falseを指定\n",
    "      include_top = False,\n",
    "      input_shape = (100,100,3)\n",
    "  )\n",
    "  #全結合層の定義\n",
    "  top_model = Sequential()\n",
    "  top_model.add(Flatten(input_shape=vgg16_model.output_shape[1:]))#1次元ベクトルに変換\n",
    "  top_model.add(Dense(1))\n",
    "\n",
    "  #モデルの結合\n",
    "  model = Model(\n",
    "      inputs = vgg16_model.input,\n",
    "      outputs = top_model(vgg16_model.output)\n",
    "      \n",
    "  )\n",
    "  #14層目まで重みを更新しない\n",
    "  for layer in vgg16_model.layers[:15]:\n",
    "    layer.trainable = False\n",
    "\n",
    "  model.compile(loss='mse',optimizer='Adam',metrics=['mae'])#誤差関数は平均2乗誤差、最適化手法にはAdam、評価指標は平均絶対誤差\n",
    "\n",
    "\n",
    "  return model\n"
   ]
  },
  {
   "cell_type": "code",
   "execution_count": 8,
   "metadata": {
    "id": "xbY_yLuFFbJj"
   },
   "outputs": [],
   "source": [
    "#学習過程を可視化するための関数\n",
    "def plot_history(history):\n",
    "  plt.plot(history.history['loss'],\"o-\",label=\"loss\")\n",
    "  plt.plot(history.history['val_loss'],\"o-\",label=\"val_loss\")\n",
    "  plt.title('model loss')\n",
    "  plt.xlabel('epoch')\n",
    "  plt.ylabel('loss')\n",
    "  plt.legend(loc='upper right')\n",
    "  plt.show\n",
    "\n"
   ]
  },
  {
   "cell_type": "code",
   "execution_count": 9,
   "metadata": {
    "id": "W7OfhgbEKNeQ"
   },
   "outputs": [],
   "source": [
    "#Data Augmentation\n",
    "datagen = ImageDataGenerator(\n",
    "    featurewise_center = False,#チャネルごとの画素置の平均を0にする\n",
    "    samplewise_center = False,#サンプルごとの画素値の平均を0にする\n",
    "    featurewise_std_normalization = False,#チャンネルごとの画素値の分散を1にする\n",
    "    samplewise_std_normalization = False,#サンプルごとの分散を1にする\n",
    "    zca_whitening = False,#白色化を行う\n",
    "    rotation_range = 0,#回転させる\n",
    "    width_shift_range = 0.1,#左右に平行移動する\n",
    "    height_shift_range = 0.1,#上下に平行移動する\n",
    "    horizontal_flip = True,#左右反転する\n",
    "    vertical_flip = False#上下反転する\n",
    "\n",
    ")"
   ]
  },
  {
   "cell_type": "code",
   "execution_count": 10,
   "metadata": {
    "id": "AQ-lI31E01Md"
   },
   "outputs": [],
   "source": [
    "#コールバック関数の定義\n",
    "#EarlyStopping\n",
    "early_stopping = EarlyStopping(\n",
    "    monitor = 'val_loss',\n",
    "    patience = 10,\n",
    "    verbose = 1\n",
    ")\n",
    "\n",
    "#reduce learning rate\n",
    "reduce_lr = ReduceLROnPlateau(\n",
    "    monitor = 'val_loss',\n",
    "    factor = 0.1,\n",
    "    patience = 3,\n",
    "    verbose = 1\n",
    ")\n",
    "\n"
   ]
  },
  {
   "cell_type": "code",
   "execution_count": 11,
   "metadata": {
    "colab": {
     "base_uri": "https://localhost:8080/",
     "height": 1000
    },
    "executionInfo": {
     "elapsed": 952053,
     "status": "ok",
     "timestamp": 1620265097932,
     "user": {
      "displayName": "和田一毅",
      "photoUrl": "",
      "userId": "12467363998519201250"
     },
     "user_tz": -540
    },
    "id": "J2rpftnflMm_",
    "outputId": "8a72850b-be5e-4d7a-ffa7-764387469b94"
   },
   "outputs": [
    {
     "name": "stdout",
     "output_type": "stream",
     "text": [
      "Downloading data from https://github.com/fchollet/deep-learning-models/releases/download/v0.1/vgg16_weights_tf_dim_ordering_tf_kernels_notop.h5\n",
      "58892288/58889256 [==============================] - 36s 1us/step\n",
      "Epoch 1/50\n",
      "118/118 [==============================] - 52s 440ms/step - loss: 700.3922 - mae: 14.4776 - val_loss: 125.2966 - val_mae: 8.2499\n",
      "Epoch 2/50\n",
      "118/118 [==============================] - 38s 321ms/step - loss: 115.1758 - mae: 8.0238 - val_loss: 108.2036 - val_mae: 7.6330\n",
      "Epoch 3/50\n",
      "118/118 [==============================] - 37s 310ms/step - loss: 99.9819 - mae: 7.3392 - val_loss: 89.6661 - val_mae: 6.9124\n",
      "Epoch 4/50\n",
      "118/118 [==============================] - 36s 309ms/step - loss: 88.5679 - mae: 6.8859 - val_loss: 107.1124 - val_mae: 7.7997\n",
      "Epoch 5/50\n",
      "118/118 [==============================] - 37s 310ms/step - loss: 83.8321 - mae: 6.7060 - val_loss: 94.2669 - val_mae: 7.1446\n",
      "Epoch 6/50\n",
      "118/118 [==============================] - 37s 310ms/step - loss: 79.0100 - mae: 6.5152 - val_loss: 80.5151 - val_mae: 6.5220\n",
      "Epoch 7/50\n",
      "118/118 [==============================] - 37s 310ms/step - loss: 73.9645 - mae: 6.3358 - val_loss: 96.9946 - val_mae: 7.3977\n",
      "Epoch 8/50\n",
      "118/118 [==============================] - 37s 310ms/step - loss: 73.4247 - mae: 6.2805 - val_loss: 76.7894 - val_mae: 6.3555\n",
      "Epoch 9/50\n",
      "118/118 [==============================] - 37s 311ms/step - loss: 68.2645 - mae: 6.0424 - val_loss: 72.1386 - val_mae: 6.1867\n",
      "Epoch 10/50\n",
      "118/118 [==============================] - 37s 311ms/step - loss: 64.5644 - mae: 5.8623 - val_loss: 72.5486 - val_mae: 6.1266\n",
      "Epoch 11/50\n",
      "118/118 [==============================] - 37s 311ms/step - loss: 62.4228 - mae: 5.7806 - val_loss: 82.4413 - val_mae: 6.6556\n",
      "Epoch 12/50\n",
      "118/118 [==============================] - 37s 312ms/step - loss: 59.1561 - mae: 5.6573 - val_loss: 78.5444 - val_mae: 6.3205\n",
      "\n",
      "Epoch 00012: ReduceLROnPlateau reducing learning rate to 0.00010000000474974513.\n",
      "Epoch 13/50\n",
      "118/118 [==============================] - 37s 311ms/step - loss: 53.1282 - mae: 5.3032 - val_loss: 69.7224 - val_mae: 5.9742\n",
      "Epoch 14/50\n",
      "118/118 [==============================] - 37s 312ms/step - loss: 49.0568 - mae: 5.1413 - val_loss: 70.5244 - val_mae: 6.0897\n",
      "Epoch 15/50\n",
      "118/118 [==============================] - 37s 317ms/step - loss: 47.6587 - mae: 5.0468 - val_loss: 69.0373 - val_mae: 5.9223\n",
      "Epoch 16/50\n",
      "118/118 [==============================] - 37s 313ms/step - loss: 48.0917 - mae: 5.0703 - val_loss: 68.7734 - val_mae: 5.9682\n",
      "Epoch 17/50\n",
      "118/118 [==============================] - 37s 313ms/step - loss: 46.8006 - mae: 4.9872 - val_loss: 69.3610 - val_mae: 5.9797\n",
      "Epoch 18/50\n",
      "118/118 [==============================] - 37s 311ms/step - loss: 46.6345 - mae: 5.0330 - val_loss: 67.7468 - val_mae: 5.8375\n",
      "Epoch 19/50\n",
      "118/118 [==============================] - 37s 315ms/step - loss: 46.1656 - mae: 4.9559 - val_loss: 70.4591 - val_mae: 6.0607\n",
      "Epoch 20/50\n",
      "118/118 [==============================] - 37s 312ms/step - loss: 44.8197 - mae: 4.9088 - val_loss: 68.9061 - val_mae: 5.9208\n",
      "Epoch 21/50\n",
      "118/118 [==============================] - 37s 313ms/step - loss: 44.1802 - mae: 4.8792 - val_loss: 69.5276 - val_mae: 5.9617\n",
      "\n",
      "Epoch 00021: ReduceLROnPlateau reducing learning rate to 1.0000000474974514e-05.\n",
      "Epoch 22/50\n",
      "118/118 [==============================] - 37s 315ms/step - loss: 43.5811 - mae: 4.8358 - val_loss: 69.6448 - val_mae: 5.9666\n",
      "Epoch 23/50\n",
      "118/118 [==============================] - 37s 313ms/step - loss: 43.0776 - mae: 4.8081 - val_loss: 68.6938 - val_mae: 5.9069\n",
      "Epoch 24/50\n",
      "118/118 [==============================] - 37s 313ms/step - loss: 43.1402 - mae: 4.8289 - val_loss: 68.9328 - val_mae: 5.9229\n",
      "\n",
      "Epoch 00024: ReduceLROnPlateau reducing learning rate to 1.0000000656873453e-06.\n",
      "Epoch 25/50\n",
      "118/118 [==============================] - 37s 312ms/step - loss: 42.3997 - mae: 4.7772 - val_loss: 68.8189 - val_mae: 5.9160\n",
      "Epoch 26/50\n",
      "118/118 [==============================] - 37s 312ms/step - loss: 43.3589 - mae: 4.8126 - val_loss: 69.0025 - val_mae: 5.9308\n",
      "Epoch 27/50\n",
      "118/118 [==============================] - 37s 311ms/step - loss: 42.0816 - mae: 4.7716 - val_loss: 68.9305 - val_mae: 5.9274\n",
      "\n",
      "Epoch 00027: ReduceLROnPlateau reducing learning rate to 1.0000001111620805e-07.\n",
      "Epoch 28/50\n",
      "118/118 [==============================] - 37s 312ms/step - loss: 43.3829 - mae: 4.7951 - val_loss: 68.8949 - val_mae: 5.9252\n",
      "Epoch 00028: early stopping\n"
     ]
    },
    {
     "data": {
      "image/png": "[encoded data removed]",
      "text/plain": [
       "<Figure size 432x288 with 1 Axes>"
      ]
     },
     "metadata": {
      "needs_background": "light"
     },
     "output_type": "display_data"
    }
   ],
   "source": [
    "#学習の実行(GPUを使わないとかなり時間がかかる（3epochで30分くらいかかった...）)\n",
    "model = model_train(X_train,y_train)\n",
    "history = model.fit_generator(\n",
    "    datagen.flow(X_train,y_train,batch_size=128),\n",
    "    steps_per_epoch = X_train.shape[0] // 128,\n",
    "    epochs = 50,\n",
    "    validation_data = (X_val, y_val),\n",
    "    callbacks = [early_stopping,reduce_lr],\n",
    "    shuffle = True,\n",
    "    verbose = 1\n",
    ")\n",
    "model.save('CNN.hdf5')\n",
    "#plot_history(hist)\n",
    "plot_history(history)"
   ]
  },
  {
   "cell_type": "code",
   "execution_count": null,
   "metadata": {
    "id": "ls8pFIAd3sNg"
   },
   "outputs": [],
   "source": [
    "#テストの実行\n",
    "#モデルの読み込み\n",
    "model = load_model('CNN.hdf5')\n",
    "\n",
    "#testデータ30件の予測値\n",
    "preds = model.predict(X_test[0:30])\n",
    "\n",
    "#testデータ30件の画像と正解値と予測値を出力\n",
    "plt.figure(figsize = (16,6))\n",
    "#誤差の絶対値が5.0よりも大きい場合は赤字で表示する\n",
    "for i in range(30):\n",
    "  plt.subplot(3,10,i+1)\n",
    "  plt.axis(\"off\")\n",
    "  pred = round(preds[i][0],1)\n",
    "  true = y_test[i]\n",
    "  #上が正解、下が予測値\n",
    "  if abs(pred - true) < 5.0:\n",
    "    plt.title(str(true) + '\\n' + str(pred))\n",
    "  else:\n",
    "    plt.title(str(true) + '\\n' + str(pred),color = \"red\")\n",
    "  plt.imshow(X_test[i])\n",
    "plt.show\n"
   ]
  },
  {
   "cell_type": "code",
   "execution_count": null,
   "metadata": {
    "id": "ZgOZXRe_Y_6b"
   },
   "outputs": [],
   "source": []
  }
 ],
 "metadata": {
  "accelerator": "GPU",
  "colab": {
   "authorship_tag": "ABX9TyPXT5/+E4OFjMymli8Cpo05",
   "collapsed_sections": [],
   "name": "自作プロダクト.ipynb",
   "provenance": []
  },
  "kernelspec": {
   "display_name": "Python 3",
   "language": "python",
   "name": "python3"
  },
  "language_info": {
   "codemirror_mode": {
    "name": "ipython",
    "version": 3
   },
   "file_extension": ".py",
   "mimetype": "text/x-python",
   "name": "python",
   "nbconvert_exporter": "python",
   "pygments_lexer": "ipython3",
   "version": "3.6.13"
  }
 },
 "nbformat": 4,
 "nbformat_minor": 1
}
